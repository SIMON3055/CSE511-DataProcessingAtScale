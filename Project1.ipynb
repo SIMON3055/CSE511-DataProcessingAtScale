{
  "cells": [
    {
      "cell_type": "code",
      "execution_count": 46,
      "metadata": {
        "id": "5ffZ6gPXFHZ4"
      },
      "outputs": [],
      "source": [
        "#!pip install unqlite\n",
        "from unqlite import UnQLite\n",
        "\n",
        "db = UnQLite('sample.db')\n",
        "data = db.collection('data')"
      ]
    },
    {
      "cell_type": "code",
      "execution_count": 47,
      "metadata": {
        "id": "8l8UP8ndFHZ5"
      },
      "outputs": [],
      "source": [
        "import math\n",
        "\n",
        "def FindBusinessBasedOnCity(cityToSearch, saveLocation1, collection):\n",
        "    business_list = []\n",
        "    for index in range(len(collection)):\n",
        "        business = collection.fetch(index)\n",
        "        \n",
        "        if business['city'] == cityToSearch:\n",
        "            business_list.append([business['name'], business['full_address'], business['city'], business['state']])\n",
        "    \n",
        "    f = open(saveLocation1, 'w')\n",
        "    for value in business_list:\n",
        "        f.write('$'.join(str(s) for s in value))\n",
        "        f.write('\\n')\n",
        "    f.close()\n",
        "\n",
        "def FindBusinessBasedOnLocation(categoriesToSearch, myLocation, maxDistance, saveLocation2, collection):\n",
        "    business_names = []\n",
        "    latitude1 = myLocation[0]\n",
        "    longitude1 = myLocation[1]\n",
        "    \n",
        "    for index in range(len(collection.all())):\n",
        "        business = collection.fetch(index)\n",
        "        latitude2 = business['latitude']\n",
        "        longitude2 = business['longitude']\n",
        "    \n",
        "        distance = DistanceFunction(latitude2, longitude2, latitude1, longitude1)\n",
        "        if distance <= maxDistance:\n",
        "            for category in categoriesToSearch:\n",
        "                if category in business['categories']:\n",
        "                    business_names.append(business['name'])\n",
        "                    break\n",
        "\n",
        "    f = open(saveLocation2, 'w')\n",
        "    for name in business_names:\n",
        "        f.write(name + '\\n')\n",
        "    f.close()\n",
        "\n",
        "def DistanceFunction(latitude2, longitude2, latitude1, longitude1):\n",
        "    \n",
        "    R = 3959\n",
        "    phi1 = math.radians(latitude1)\n",
        "    phi2 = math.radians(latitude2)\n",
        "    delta_phi = math.radians(latitude2 - latitude1)\n",
        "    delta_lambda = math.radians(longitude2 - longitude1)\n",
        "    a = math.sin(delta_phi/2) * math.sin(delta_phi/2) + math.cos(phi1) * math.cos(phi2) * math.sin(delta_lambda/2)* math.sin(delta_lambda/2)\n",
        "    c = 2 * math.atan2(math.sqrt(a), math.sqrt(1 - a))\n",
        "    d = R * c\n",
        "    return d"
      ]
    },
    {
      "cell_type": "code",
      "execution_count": 48,
      "metadata": {
        "colab": {
          "base_uri": "https://localhost:8080/"
        },
        "id": "2RG_mvK7FHZ6",
        "outputId": "e1afed0b-9555-43bb-8d09-972d0a13b62e"
      },
      "outputs": [
        {
          "output_type": "stream",
          "name": "stdout",
          "text": [
            "Correct! You FindBusinessByCity function passes these test cases. This does not cover all possible test edge cases, however, so make sure that your function covers them before submitting!\n"
          ]
        }
      ],
      "source": [
        "true_results = [\"VinciTorio's Restaurant$1835 E Elliot Rd, Ste C109, Tempe, AZ 85284$Tempe$AZ\", \"P.croissants$7520 S Rural Rd, Tempe, AZ 85283$Tempe$AZ\", \"Salt Creek Home$1725 W Ruby Dr, Tempe, AZ 85284$Tempe$AZ\"]\n",
        "\n",
        "try:\n",
        "    FindBusinessBasedOnCity('Tempe', 'output_city.txt', data)\n",
        "except NameError as e:\n",
        "    print ('The FindBusinessBasedOnCity function is not defined! You must run the cell containing the function before running this evaluation cell.')\n",
        "except TypeError as e:\n",
        "    print (\"The FindBusinessBasedOnCity function is supposed to accept three arguments. Yours does not!\")\n",
        "    \n",
        "try:\n",
        "    opf = open('output_city.txt', 'r')\n",
        "except FileNotFoundError as e:\n",
        "    print (\"The FindBusinessBasedOnCity function does not write data to the correct location.\")\n",
        "    \n",
        "lines = opf.readlines()\n",
        "if len(lines) != 3:\n",
        "    print (\"The FindBusinessBasedOnCity function does not find the correct number of results, should be 3.\")\n",
        "    \n",
        "lines = [line.strip() for line in lines]\n",
        "if sorted(lines) == sorted(true_results):\n",
        "    print (\"Correct! You FindBusinessByCity function passes these test cases. This does not cover all possible test edge cases, however, so make sure that your function covers them before submitting!\")"
      ]
    },
    {
      "cell_type": "code",
      "execution_count": 49,
      "metadata": {
        "colab": {
          "base_uri": "https://localhost:8080/"
        },
        "id": "as2Pkyh7FHZ7",
        "outputId": "a0015c32-cb7a-4689-8e29-56dfe4f8eabd"
      },
      "outputs": [
        {
          "output_type": "stream",
          "name": "stdout",
          "text": [
            "Correct! Your FindBusinessBasedOnLocation function passes these test cases. This does not cover all possible edge cases, so make sure your function does before submitting.\n"
          ]
        }
      ],
      "source": [
        "true_results = [\"VinciTorio's Restaurant\"]\n",
        "\n",
        "try:\n",
        "    FindBusinessBasedOnLocation(['Buffets'], [33.3482589, -111.9088346], 10, 'output_loc.txt', data)\n",
        "except NameError as e: \n",
        "    print ('The FindBusinessBasedOnLocation function is not defined! You must run the cell containing the function before running this evaluation cell.')\n",
        "except TypeError as e:\n",
        "    print (\"The FindBusinessBasedOnLocation function is supposed to accept five arguments. Yours does not!\")\n",
        "    \n",
        "try:\n",
        "    opf = open('output_loc.txt','r')\n",
        "except FileNotFoundError as e:\n",
        "    print (\"The FindBusinessBasedOnLocation function does not write data to the correct location.\")\n",
        "\n",
        "lines = opf.readlines()\n",
        "if len(lines) != 1:\n",
        "    print (\"The FindBusinessBasedOnLocation function does not find the correct number of results, should be only 1.\")\n",
        "\n",
        "if lines[0].strip() == true_results[0]:\n",
        "    print (\"Correct! Your FindBusinessBasedOnLocation function passes these test cases. This does not cover all possible edge cases, so make sure your function does before submitting.\")"
      ]
    },
    {
      "cell_type": "markdown",
      "metadata": {
        "id": "mCFwTFHrFHZ8"
      },
      "source": [
        "## Additional test cases on city"
      ]
    },
    {
      "cell_type": "code",
      "execution_count": 41,
      "metadata": {
        "id": "E0SC5sSHFHZ8",
        "colab": {
          "base_uri": "https://localhost:8080/"
        },
        "outputId": "6b620e07-6bed-4d0e-edd6-d498ac460b2b"
      },
      "outputs": [
        {
          "output_type": "stream",
          "name": "stdout",
          "text": [
            "Correct! You FindBusinessByCity function passes these test cases. This does not cover all possible test edge cases, however, so make sure that your function covers them before submitting!\n"
          ]
        }
      ],
      "source": [
        "# true_results =['3 Palms$7707 E McDowell Rd, Scottsdale, AZ 85257$Scottsdale$AZ', \"Bob's Bike Shop$1608 N Miller Rd, Scottsdale, AZ 85257$Scottsdale$AZ\", 'Ronan & Tagart, PLC$8980 E Raintree Dr, Ste 120, Scottsdale, AZ 85260$Scottsdale$AZ', \"Sangria's$7700 E McCormick Pkwy, Scottsdale, AZ 85258$Scottsdale$AZ\", 'Turf Direct$8350 E Evans Rd, Scottsdale, AZ 85260$Scottsdale$AZ']\n",
        "# try: \n",
        "#   FindBusinessBasedOnCity('Scottsdale', 'output_city.txt', data) \n",
        "# except NameError as e: \n",
        "#   print ('The FindBusinessBasedOnCity function is not defined! You must run the cell containing the function before running this evaluation cell.') \n",
        "# except TypeError as e: \n",
        "#   print(e) \n",
        "#   print (\"The FindBusinessBasedOnCity function is supposed to accept three arguments. Yours does not!\") \n",
        "# try: \n",
        "#   opf = open('output_city.txt', 'r') \n",
        "# except FileNotFoundError as e: \n",
        "#   print (\"The FindBusinessBasedOnCity function does not write data to the correct location.\") \n",
        "# lines = opf.readlines()\n",
        "# if len(lines) != 5:\n",
        "#   print (\"The FindBusinessBasedOnCity function does not find the correct number of results, should be 3.\") \n",
        "# lines = [line.strip() for line in lines]\n",
        "# if sorted(lines) == sorted(true_results):\n",
        "#   print (\"Correct! You FindBusinessByCity function passes these test cases. This does not cover all possible test edge cases, however, so make sure that your function covers them before submitting!\")\n"
      ]
    },
    {
      "cell_type": "code",
      "execution_count": 42,
      "metadata": {
        "id": "Tzj6XbKCFHZ8",
        "colab": {
          "base_uri": "https://localhost:8080/"
        },
        "outputId": "a1eb96ba-f579-44d4-8c20-c00a87d25718"
      },
      "outputs": [
        {
          "output_type": "stream",
          "name": "stdout",
          "text": [
            "Correct! You FindBusinessByCity function passes these test cases. This does not cover all possible test edge cases, however, so make sure that your function covers them before submitting!\n"
          ]
        }
      ],
      "source": [
        "# true_results =['Arizona Exterminating Co.$521 E Broadway Rd, Mesa, AZ 85204$Mesa$AZ', 'Bikram Yoga$1940 W 8th St, Ste 111, Mesa, AZ 85202$Mesa$AZ', \"Denny's Restaurant$1330 S Power Rd, Mesa, AZ 85206$Mesa$AZ\", 'Diamondback Gymnastics$7211 E Southern Avenue, Mesa, AZ 85209$Mesa$AZ', 'Southeast Valley Medical Group$1950 S Country Club Dr, Mesa, AZ 85210$Mesa$AZ', 'Spa Pima$2150 S Power Rd, Mesa, AZ 85209$Mesa$AZ', 'The Seafood Market$1910 S Gilbert Rd, Mesa, AZ 85204$Mesa$AZ']\n",
        "# try:\n",
        "#   FindBusinessBasedOnCity('Mesa', 'output_city.txt', data) \n",
        "# except NameError as e: \n",
        "#   print ('The FindBusinessBasedOnCity function is not defined! You must run the cell containing the function before running this evaluation cell.') \n",
        "# except TypeError as e: \n",
        "#   print(e) \n",
        "#   print (\"The FindBusinessBasedOnCity function is supposed to accept three arguments. Yours does not!\") \n",
        "# try: \n",
        "#   opf = open('output_city.txt', 'r') \n",
        "# except FileNotFoundError as e: \n",
        "#   print (\"The FindBusinessBasedOnCity function does not write data to the correct location.\") \n",
        "# lines = opf.readlines()\n",
        "# if len(lines) != 7:\n",
        "#   print (\"The FindBusinessBasedOnCity function does not find the correct number of results, should be 3.\") \n",
        "# lines = [line.strip() for line in lines]\n",
        "# if sorted(lines) == sorted(true_results):\n",
        "#   print (\"Correct! You FindBusinessByCity function passes these test cases. This does not cover all possible test edge cases, however, so make sure that your function covers them before submitting!\") \n"
      ]
    },
    {
      "cell_type": "markdown",
      "source": [
        "## Additional testCases on Location"
      ],
      "metadata": {
        "id": "cQc1of_xu4dI"
      }
    },
    {
      "cell_type": "code",
      "execution_count": 43,
      "metadata": {
        "id": "AU4PoG8nFHZ9",
        "colab": {
          "base_uri": "https://localhost:8080/"
        },
        "outputId": "9d1f98a6-597d-4bb6-f3ff-79d03f957a72"
      },
      "outputs": [
        {
          "output_type": "stream",
          "name": "stdout",
          "text": [
            "Correct! Your FindBusinessBasedOnLocation function passes these test cases. This does not cover all possible edge cases, so make sure your function does before submitting.\n"
          ]
        }
      ],
      "source": [
        "# true_results =['The Seafood Market']\n",
        "# try: \n",
        "#   FindBusinessBasedOnLocation(['Specialty Food'], [33.3482589, -111.9088346], 10, 'output_loc.txt', data) \n",
        "# except NameError as e: \n",
        "#   print ('The FindBusinessBasedOnLocation function is not defined! You must run the cell containing the function before running this evaluation cell.') \n",
        "# except TypeError as e: \n",
        "#   print (\"The FindBusinessBasedOnLocation function is supposed to accept five arguments. Yours does not!\") \n",
        "# try:\n",
        "#   opf = open('output_loc.txt','r') \n",
        "# except FileNotFoundError as e: \n",
        "#   print (\"The FindBusinessBasedOnLocation function does not write data to the correct location.\") \n",
        "# lines = opf.readlines()\n",
        "# if len(lines) != 1:\n",
        "#   print (\"The FindBusinessBasedOnLocation function does not find the correct number of results, should be only 1.\") \n",
        "# lines = [line.strip() for line in lines]\n",
        "# if sorted(lines) == sorted(true_results):\n",
        "#   print (\"Correct! Your FindBusinessBasedOnLocation function passes these test cases. This does not cover all possible edge cases, so make sure your function does before submitting.\")"
      ]
    },
    {
      "cell_type": "code",
      "execution_count": 44,
      "metadata": {
        "id": "q5-AeYG-FHZ9",
        "colab": {
          "base_uri": "https://localhost:8080/"
        },
        "outputId": "bb42dbf9-151c-4e8d-ba4a-9419ad77341d"
      },
      "outputs": [
        {
          "output_type": "stream",
          "name": "stdout",
          "text": [
            "Correct! Your FindBusinessBasedOnLocation function passes these test cases. This does not cover all possible edge cases, so make sure your function does before submitting.\n"
          ]
        }
      ],
      "source": [
        "# true_results = ['P.croissants'] \n",
        "# try: \n",
        "#   FindBusinessBasedOnLocation(['Bakeries'], [33.3482589, -111.9088346], 10, 'output_loc.txt', data) \n",
        "# except NameError as e: \n",
        "#   print ('The FindBusinessBasedOnLocation function is not defined! You must run the cell containing the function before running this evaluation cell.') \n",
        "# except TypeError as e: \n",
        "#   print (\"The FindBusinessBasedOnLocation function is supposed to accept five arguments. Yours does not!\")\n",
        "# try: \n",
        "#   opf = open('output_loc.txt','r') \n",
        "# except FileNotFoundError as e: \n",
        "#   print (\"The FindBusinessBasedOnLocation function does not write data to the correct location.\")\n",
        "# lines = opf.readlines()\n",
        "# if len(lines) != 1: \n",
        "#   print (\"The FindBusinessBasedOnLocation function does not find the correct number of results, should be only 1.\")\n",
        "# lines = [line.strip() for line in lines]\n",
        "# if sorted(lines) == sorted(true_results): \n",
        "#   print (\"Correct! Your FindBusinessBasedOnLocation function passes these test cases. This does not cover all possible edge cases, so make sure your function does before submitting.\")\n",
        "\n"
      ]
    },
    {
      "cell_type": "code",
      "execution_count": 45,
      "metadata": {
        "id": "QZtfX3skFHZ9",
        "colab": {
          "base_uri": "https://localhost:8080/"
        },
        "outputId": "9bb2ba36-ed63-4acd-cd7d-4add8af78dd9"
      },
      "outputs": [
        {
          "output_type": "stream",
          "name": "stdout",
          "text": [
            "Correct! Your FindBusinessBasedOnLocation function passes these test cases. This does not cover all possible edge cases, so make sure your function does before submitting.\n"
          ]
        }
      ],
      "source": [
        "# true_results = ['The Seafood Market', 'P.croissants']\n",
        "# try: \n",
        "#   FindBusinessBasedOnLocation(['Food', 'Specialty Food'], [33.3482589, -111.9088346], 10, 'output_loc.txt', data) \n",
        "# except NameError as e: \n",
        "#   print ('The FindBusinessBasedOnLocation function is not defined! You must run the cell containing the function before running this evaluation cell.') \n",
        "# except TypeError as e: \n",
        "#   print (\"The FindBusinessBasedOnLocation function is supposed to accept five arguments. Yours does not!\")\n",
        "# try: \n",
        "#   opf = open('output_loc.txt','r') \n",
        "# except FileNotFoundError as e: \n",
        "#   print (\"The FindBusinessBasedOnLocation function does not write data to the correct location.\")\n",
        "# lines = opf.readlines()\n",
        "# if len(lines) != 2: \n",
        "#   print (\"The FindBusinessBasedOnLocation function does not find the correct number of results, should be only 2.\")\n",
        "# lines = [line.strip() for line in lines]\n",
        "# if sorted(lines) == sorted(true_results): \n",
        "#   print (\"Correct! Your FindBusinessBasedOnLocation function passes these test cases. This does not cover all possible edge cases, so make sure your function does before submitting.\")\n"
      ]
    }
  ],
  "metadata": {
    "kernelspec": {
      "display_name": "Python 3 (ipykernel)",
      "language": "python",
      "name": "python3"
    },
    "language_info": {
      "codemirror_mode": {
        "name": "ipython",
        "version": 3
      },
      "file_extension": ".py",
      "mimetype": "text/x-python",
      "name": "python",
      "nbconvert_exporter": "python",
      "pygments_lexer": "ipython3",
      "version": "3.9.7"
    },
    "colab": {
      "provenance": [],
      "collapsed_sections": []
    }
  },
  "nbformat": 4,
  "nbformat_minor": 0
}